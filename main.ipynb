{
 "cells": [
  {
   "cell_type": "markdown",
   "metadata": {},
   "source": [
    "# Todo App - Python Integration with Convex Backend\n",
    "\n",
    "This notebook demonstrates how to interact with a Convex backend from Python to manage todo items.\n",
    "\n",
    "## Overview\n",
    "- **Convex**: A backend-as-a-service that provides real-time database and API functionality\n",
    "- **Goal**: Insert todo items into the Convex database using Python HTTP requests\n",
    "- **Authentication**: Uses environment variables for secure configuration"
   ]
  },
  {
   "cell_type": "markdown",
   "metadata": {},
   "source": [
    "## 1. Import Required Libraries\n",
    "\n",
    "We need these libraries for our todo app integration:"
   ]
  },
  {
   "cell_type": "code",
   "execution_count": 1,
   "metadata": {},
   "outputs": [
    {
     "name": "stdout",
     "output_type": "stream",
     "text": [
      "Requirement already satisfied: requests in c:\\users\\akibi\\appdata\\local\\programs\\python\\python313\\lib\\site-packages (2.32.3)Note: you may need to restart the kernel to use updated packages.\n",
      "\n",
      "Requirement already satisfied: pandas in c:\\users\\akibi\\appdata\\local\\programs\\python\\python313\\lib\\site-packages (2.2.3)\n",
      "Collecting dotenv\n",
      "  Downloading dotenv-0.9.9-py2.py3-none-any.whl.metadata (279 bytes)\n",
      "Requirement already satisfied: charset-normalizer<4,>=2 in c:\\users\\akibi\\appdata\\local\\programs\\python\\python313\\lib\\site-packages (from requests) (3.4.1)\n",
      "Requirement already satisfied: idna<4,>=2.5 in c:\\users\\akibi\\appdata\\local\\programs\\python\\python313\\lib\\site-packages (from requests) (3.10)\n",
      "Requirement already satisfied: urllib3<3,>=1.21.1 in c:\\users\\akibi\\appdata\\local\\programs\\python\\python313\\lib\\site-packages (from requests) (2.3.0)\n",
      "Requirement already satisfied: certifi>=2017.4.17 in c:\\users\\akibi\\appdata\\local\\programs\\python\\python313\\lib\\site-packages (from requests) (2024.12.14)\n",
      "Requirement already satisfied: numpy>=1.26.0 in c:\\users\\akibi\\appdata\\local\\programs\\python\\python313\\lib\\site-packages (from pandas) (2.1.3)\n",
      "Requirement already satisfied: python-dateutil>=2.8.2 in c:\\users\\akibi\\appdata\\local\\programs\\python\\python313\\lib\\site-packages (from pandas) (2.9.0.post0)\n",
      "Requirement already satisfied: pytz>=2020.1 in c:\\users\\akibi\\appdata\\local\\programs\\python\\python313\\lib\\site-packages (from pandas) (2024.2)\n",
      "Requirement already satisfied: tzdata>=2022.7 in c:\\users\\akibi\\appdata\\local\\programs\\python\\python313\\lib\\site-packages (from pandas) (2024.2)\n",
      "Collecting python-dotenv (from dotenv)\n",
      "  Downloading python_dotenv-1.2.1-py3-none-any.whl.metadata (25 kB)\n",
      "Requirement already satisfied: six>=1.5 in c:\\users\\akibi\\appdata\\local\\programs\\python\\python313\\lib\\site-packages (from python-dateutil>=2.8.2->pandas) (1.16.0)\n",
      "Downloading dotenv-0.9.9-py2.py3-none-any.whl (1.9 kB)\n",
      "Downloading python_dotenv-1.2.1-py3-none-any.whl (21 kB)\n",
      "Installing collected packages: python-dotenv, dotenv\n",
      "Successfully installed dotenv-0.9.9 python-dotenv-1.2.1\n"
     ]
    },
    {
     "name": "stderr",
     "output_type": "stream",
     "text": [
      "\n",
      "[notice] A new release of pip is available: 24.3.1 -> 25.3\n",
      "[notice] To update, run: python.exe -m pip install --upgrade pip\n"
     ]
    }
   ],
   "source": [
    "%pip install requests pandas dotenv"
   ]
  },
  {
   "cell_type": "code",
   "execution_count": 2,
   "metadata": {},
   "outputs": [],
   "source": [
    "import requests\n",
    "import os\n",
    "import pandas as pd\n",
    "from dotenv import load_dotenv"
   ]
  },
  {
   "cell_type": "markdown",
   "metadata": {},
   "source": [
    "## 2. Load Environment Configuration"
   ]
  },
  {
   "cell_type": "code",
   "execution_count": 3,
   "metadata": {},
   "outputs": [],
   "source": [
    "load_dotenv('./.env.local')\n",
    "CONVEX_URL = os.getenv('CONVEX_URL')"
   ]
  },
  {
   "cell_type": "markdown",
   "metadata": {},
   "source": [
    "## 3. Create Todo Function"
   ]
  },
  {
   "cell_type": "code",
   "execution_count": 6,
   "execution_count": 4,
   "metadata": {},
   "outputs": [],
   "source": [
    "def create_todo(user_id: str, title: str, description: str = None, is_completed: bool = False):\n",
    "    todo = {\n",
    "        \"user_id\": user_id,\n",
    "        \"title\": title,\n",
    "        \"description\": description,\n",
    "        \"is_completed\": is_completed\n",
    "    }\n",
    "    \n",
    "    payload = {\n",
    "        \"path\": \"todoFunc:saveTodo\",\n",
    "        \"args\": todo,\n",
    "        \"format\": \"json\"\n",
    "    }\n",
    "    \n",
    "    response = requests.post(f\"{CONVEX_URL}/api/mutation\", json=payload)\n",
    "    return response.json() if response.status_code == 200 else None"
   ]
  },
  {
   "cell_type": "code",
   "execution_count": 8,
   "metadata": {},
   "outputs": [
    {
     "data": {
      "text/plain": [
       "{'status': 'success', 'value': 'j570sr6daq02nggc4tgqd4jpdd7teax8'}"
      ]
     },
     "execution_count": 8,
     "metadata": {},
     "output_type": "execute_result"
    }
   ],
   "source": [
    "create_todo(\"akib\",\"Khalid Muntasir\",\"Khalid Muntasir Jante Chay\")"
   ]
  },
  {
   "cell_type": "markdown",
   "metadata": {},
   "source": [
    "#### Create a todo"
   ]
  },
  {
   "cell_type": "code",
   "execution_count": 5,
   "metadata": {},
   "outputs": [
    {
     "name": "stdout",
     "output_type": "stream",
     "text": [
      "Create response: {'status': 'success', 'value': 'j57b6r3h20ppb9cxzw056mvky17teh82'}\n"
     ]
    }
   ],
   "source": [
    "# Create a new todo for user \"ashik123\"\n",
    "response = create_todo(\"ashik123\", \"Buy groceries\", \"Milk, eggs, bread\")\n",
    "print(\"Create response:\", response)"
   ]
  },
  {
   "cell_type": "markdown",
   "metadata": {},
   "source": [
    "## 4. Get Todos as DataFrame"
   ]
  },
  {
   "cell_type": "code",
   "execution_count": 13,
   "execution_count": 6,
   "metadata": {},
   "outputs": [
    {
     "data": {
      "text/html": [
       "<div>\n",
       "<style scoped>\n",
       "    .dataframe tbody tr th:only-of-type {\n",
       "        vertical-align: middle;\n",
       "    }\n",
       "\n",
       "    .dataframe tbody tr th {\n",
       "        vertical-align: top;\n",
       "    }\n",
       "\n",
       "    .dataframe thead th {\n",
       "        text-align: right;\n",
       "    }\n",
       "</style>\n",
       "<table border=\"1\" class=\"dataframe\">\n",
       "  <thead>\n",
       "    <tr style=\"text-align: right;\">\n",
       "      <th></th>\n",
       "      <th>_creationTime</th>\n",
       "      <th>_id</th>\n",
       "      <th>description</th>\n",
       "      <th>is_completed</th>\n",
       "      <th>title</th>\n",
       "      <th>user_id</th>\n",
       "      <th>creation_date</th>\n",
       "    </tr>\n",
       "  </thead>\n",
       "  <tbody>\n",
       "    <tr>\n",
       "      <th>0</th>\n",
       "      <td>1.761835e+12</td>\n",
       "      <td>j570sr6daq02nggc4tgqd4jpdd7teax8</td>\n",
       "      <td>Khalid Muntasir Jante Chay</td>\n",
       "      <td>False</td>\n",
       "      <td>Khalid Muntasir</td>\n",
       "      <td>akib</td>\n",
       "      <td>2025-10-30 14:40:11.481320068</td>\n",
       "    </tr>\n",
       "    <tr>\n",
       "      <th>4</th>\n",
       "      <td>1.761835e+12</td>\n",
       "      <td>j57b6r3h20ppb9cxzw056mvky17teh82</td>\n",
       "      <td>Milk, eggs, bread</td>\n",
       "      <td>False</td>\n",
       "      <td>Buy groceries</td>\n",
       "      <td>ashik123</td>\n",
       "      <td>2025-10-30 14:42:20.122041504</td>\n",
       "    </tr>\n",
       "  </tbody>\n",
       "</table>\n",
       "</div>"
      ],
      "text/plain": [
       "   _creationTime                               _id  \\\n",
       "0   1.761835e+12  j570sr6daq02nggc4tgqd4jpdd7teax8   \n",
       "\n",
       "                  description  is_completed            title user_id  \\\n",
       "0  Khalid Muntasir Jante Chay         False  Khalid Muntasir    akib   \n",
       "\n",
       "                  creation_date  \n",
       "0 2025-10-30 14:40:11.481320068  "
      ]
     },
     "execution_count": 13,
       "   _creationTime                               _id             description  \\\n",
       "0   1.761775e+12  j57240agfd2echa8pnnaga6ceh7tda4g  This is a another todo   \n",
       "1   1.761776e+12  j573gxzdtsh9rth0kefc3gch157tc8tn  This is a another todo   \n",
       "2   1.761776e+12  j5764cvwck9bp1vba6v0bh83v57tdxcq       Complete tutorial   \n",
       "3   1.761776e+12  j579e7f59pzhvv88d2j38m3fch7tdvjz       Complete tutorial   \n",
       "4   1.761835e+12  j57b6r3h20ppb9cxzw056mvky17teh82       Milk, eggs, bread   \n",
       "\n",
       "   is_completed           title   user_id                 creation_date  \n",
       "0         False  This is a todo  ashik123 2025-10-29 21:58:42.953203125  \n",
       "1         False  This is a todo  ashik123 2025-10-29 22:08:20.481326904  \n",
       "2         False    Learn Python  ashik123 2025-10-29 22:17:20.379548584  \n",
       "3         False    Learn Python  ashik123 2025-10-29 22:20:49.810487061  \n",
       "4         False   Buy groceries  ashik123 2025-10-30 14:42:20.122041504  "
      ]
     },
     "execution_count": 6,
     "metadata": {},
     "output_type": "execute_result"
    }
   ],
   "source": [
    "def get_todos_dataframe(user_id: str, is_completed: bool = None):\n",
    "    \"\"\"Return todos as pandas DataFrame for statistical analysis\"\"\"\n",
    "    \n",
    "    if is_completed is None:\n",
    "        payload = {\n",
    "            \"path\": \"todoFunc:getAllTodos\",\n",
    "            \"args\": {\"user_id\": user_id},\n",
    "            \"format\": \"json\"\n",
    "        }\n",
    "    else:\n",
    "        payload = {\n",
    "            \"path\": \"todoFunc:getTodos\",\n",
    "            \"args\": {\"user_id\": user_id, \"is_completed\": is_completed},\n",
    "            \"format\": \"json\"\n",
    "        }\n",
    "    \n",
    "    response = requests.post(f\"{CONVEX_URL}/api/query\", json=payload)\n",
    "    \n",
    "    if response.status_code == 200 and response.json()[\"status\"] == \"success\":\n",
    "        todos = response.json()[\"value\"]\n",
    "        if todos:\n",
    "            df = pd.DataFrame(todos)\n",
    "            df['creation_date'] = pd.to_datetime(df['_creationTime'], unit='ms')\n",
    "            return df\n",
    "    \n",
    "    return pd.DataFrame()\n",
    "\n",
    "# Get all todos as DataFrame\n",
    "todos_df = get_todos_dataframe(\"akib\")\n",
    "todos_df"
   ]
  }
 ],
 "metadata": {
  "kernelspec": {
   "display_name": "Python 3",
   "language": "python",
   "name": "python3"
  },
  "language_info": {
   "codemirror_mode": {
    "name": "ipython",
    "version": 3
   },
   "file_extension": ".py",
   "mimetype": "text/x-python",
   "name": "python",
   "nbconvert_exporter": "python",
   "pygments_lexer": "ipython3",
   "version": "3.13.0"
  }
 },
 "nbformat": 4,
 "nbformat_minor": 4
}
